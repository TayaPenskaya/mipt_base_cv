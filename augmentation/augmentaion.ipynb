{
  "nbformat": 4,
  "nbformat_minor": 0,
  "metadata": {
    "colab": {
      "name": "augmentaion.ipynb",
      "provenance": [],
      "collapsed_sections": []
    },
    "kernelspec": {
      "name": "python3",
      "display_name": "Python 3"
    },
    "language_info": {
      "name": "python"
    }
  },
  "cells": [
    {
      "cell_type": "markdown",
      "source": [
        "# Image data augmentation"
      ],
      "metadata": {
        "id": "9k7M5BrmnwWP"
      }
    },
    {
      "cell_type": "code",
      "source": [
        "% cd drive/MyDrive/data/aug_data"
      ],
      "metadata": {
        "id": "vmaU0Q9NaZgw"
      },
      "execution_count": null,
      "outputs": []
    },
    {
      "cell_type": "code",
      "source": [
        "! pip install wand\n",
        "! pip install straug\n",
        "! apt-get install libmagickwand-dev"
      ],
      "metadata": {
        "id": "p_Rsx2wTZkkv"
      },
      "execution_count": null,
      "outputs": []
    },
    {
      "cell_type": "code",
      "execution_count": 336,
      "metadata": {
        "id": "Cw3OBooOBmsz"
      },
      "outputs": [],
      "source": [
        "import cv2\n",
        "import skimage\n",
        "import numpy as np\n",
        "import wand\n",
        "from PIL import Image\n",
        "import matplotlib.pyplot as plt\n",
        "from collections import namedtuple\n",
        "from skimage import transform\n",
        "from straug.weather import Fog, Snow, Frost, Rain, Shadow\n",
        "from straug.noise import ShotNoise, ImpulseNoise, SpeckleNoise\n",
        "from straug.warp import Curve, Distort\n",
        "\n",
        "from skimage.io import imsave\n",
        "from skimage import data\n",
        "\n",
        "\n",
        "%matplotlib inline"
      ]
    },
    {
      "cell_type": "code",
      "source": [
        "def save_image(img: np.array, path: str):\n",
        "    result = Image.fromarray(img.astype(np.uint8))\n",
        "    result.save(path)"
      ],
      "metadata": {
        "id": "ImvORuQIzjaA"
      },
      "execution_count": null,
      "outputs": []
    },
    {
      "cell_type": "markdown",
      "source": [
        "## Affine Transformation (rotation, scale, translation, shearing)"
      ],
      "metadata": {
        "id": "Jw_1saq8BpqU"
      }
    },
    {
      "cell_type": "markdown",
      "source": [
        "Самописный метод для аффиного преобразования не работает с текстовыми изображениями, по всей видимости из-за интерполяции. Оставлю на память о проделанной работе, но буду использовать реализовнный из skimage."
      ],
      "metadata": {
        "id": "xyF2GRyues_4"
      }
    },
    {
      "cell_type": "code",
      "source": [
        "def affine_transform(img: np.array, mat: np.array):\n",
        "    # T(x) = A(x − c) + t + c\n",
        "    \n",
        "    H, W, _ = img.shape\n",
        "    cx, cy = (H + 1) // 2 - 1, (W + 1) // 2 - 1\n",
        "\n",
        "    offset_M = make_translation([cx, cy]) @ mat\n",
        "    transformed_img = np.zeros_like(img)\n",
        "\n",
        "    transformed_idx = []\n",
        "\n",
        "    for x in range(H):\n",
        "        for y in range(W):\n",
        "            warp_coords = offset_M @ np.array([x - cx, y - cy, 1])\n",
        "            transformed_idx.append(warp_coords[:2])\n",
        "\n",
        "    transformed_idx = np.array(transformed_idx)\n",
        "    transformed_img = cv2.remap(\n",
        "        img, \n",
        "        transformed_idx[:, 0].astype('float32').reshape(W, H), \n",
        "        transformed_idx[:, 1].astype('float32').reshape(W, H), \n",
        "        cv2.INTER_CUBIC\n",
        "    )\n",
        "    \n",
        "    return transformed_img.transpose(1, 0, 2)"
      ],
      "metadata": {
        "id": "uGelnVzk9yk1"
      },
      "execution_count": null,
      "outputs": []
    },
    {
      "cell_type": "code",
      "source": [
        "def make_reflection():\n",
        "    mat = np.array([\n",
        "      [-1, 0, 0],\n",
        "      [0,  1, 0],\n",
        "      [0,  0, 1],\n",
        "    ])\n",
        "\n",
        "    return mat\n",
        "\n",
        "def make_rotation(params):\n",
        "    angle = params[0]\n",
        "    mat = np.array([\n",
        "      [np.cos(angle),  np.sin(angle), 0],\n",
        "      [-np.sin(angle), np.cos(angle), 0],\n",
        "      [0,              0,             1],\n",
        "    ])\n",
        "\n",
        "    return mat\n",
        "\n",
        "def make_scaling(params):\n",
        "    tx, ty = params[0], params[1]\n",
        "    mat = np.array([\n",
        "      [tx, 0,  0],\n",
        "      [0,  ty, 0],\n",
        "      [0,  0,  1],\n",
        "    ])\n",
        "\n",
        "    return mat\n",
        "\n",
        "def make_translation(params):\n",
        "    tx, ty = params[0], params[1]\n",
        "    mat = np.array([\n",
        "      [1,  0, tx],\n",
        "      [0,  1, ty],\n",
        "      [0,  0, 1],\n",
        "    ])\n",
        "\n",
        "    return mat\n",
        "\n",
        "def make_shearing(params):\n",
        "    tx, ty = params[0], params[1]\n",
        "    mat = np.array([\n",
        "      [1,  tx, 0],\n",
        "      [ty, 1,  0],\n",
        "      [0,  0,  1],\n",
        "    ])\n",
        "\n",
        "    return mat"
      ],
      "metadata": {
        "id": "3jmM8DW3nwdP"
      },
      "execution_count": null,
      "outputs": []
    },
    {
      "cell_type": "code",
      "source": [
        "def affine_transform(img: np.array, angle=0, scale=0, mat=None):\n",
        "    H, W, _ = img.shape\n",
        "    cx, cy = (H + 1) // 2 - 1, (W + 1) // 2 - 1\n",
        "\n",
        "    mat_ = cv2.getRotationMatrix2D((cx, cy), angle, scale)\n",
        "    if mat is not None:\n",
        "        mat_ = (mat @ np.vstack((mat_, np.array([[0, 0, 1]]))))[:2, :]\n",
        "    \n",
        "    out_img = cv2.warpAffine(img, mat_, (W, H))\n",
        "    return out_img"
      ],
      "metadata": {
        "id": "3KN12JPve-rP"
      },
      "execution_count": null,
      "outputs": []
    },
    {
      "cell_type": "code",
      "source": [
        "img = np.asarray(Image.open('../10.png')).astype('uint8')\n",
        "affine_img = affine_transform(img, scale=0.8, angle=35)"
      ],
      "metadata": {
        "id": "hXGm11QQfnlb"
      },
      "execution_count": null,
      "outputs": []
    },
    {
      "cell_type": "code",
      "source": [
        "img = np.asarray(Image.open('../9.png')).astype('uint8')\n",
        "affine_img = affine_transform(img, scale=0.8, angle=25)\n",
        "affine_img = Snow()(Image.fromarray(affine_img), mag=2, prob=0.9)"
      ],
      "metadata": {
        "id": "mgoNqr_eJA9A"
      },
      "execution_count": 412,
      "outputs": []
    },
    {
      "cell_type": "code",
      "source": [
        "plt.imshow(affine_img)\n",
        "plt.axis('off')\n",
        "plt.show()"
      ],
      "metadata": {
        "colab": {
          "base_uri": "https://localhost:8080/",
          "height": 248
        },
        "id": "5evN4ogTfTgy",
        "outputId": "826b296f-3f97-45a8-fadb-14c5321d12b0"
      },
      "execution_count": 413,
      "outputs": [
        {
          "output_type": "display_data",
          "data": {
            "text/plain": [
              "<Figure size 432x288 with 1 Axes>"
            ],
            "image/png": "[encoded data removed]"
          },
          "metadata": {
            "needs_background": "light"
          }
        }
      ]
    },
    {
      "cell_type": "code",
      "source": [
        "save_image(np.array(affine_img), '9_7.png')"
      ],
      "metadata": {
        "id": "MlxfapAGzw3X"
      },
      "execution_count": 414,
      "outputs": []
    },
    {
      "cell_type": "markdown",
      "source": [
        "## Projective transformation"
      ],
      "metadata": {
        "id": "ftxrB9gnGpMs"
      }
    },
    {
      "cell_type": "code",
      "source": [
        "def projective_transform(img: np.array, mat: np.array):\n",
        "    tform = transform.ProjectiveTransform(matrix=mat)\n",
        "    return transform.warp(img, tform)"
      ],
      "metadata": {
        "id": "2qyu3rP-2q6J"
      },
      "execution_count": null,
      "outputs": []
    },
    {
      "cell_type": "code",
      "source": [
        "img = np.asarray(Image.open('4_9.png')).astype('uint8')\n",
        "h, w, _ = img.shape\n",
        "\n",
        "input = np.float32([[0,100], [w/1.2,h/3], [w,h/1.2], [0,h-100]])\n",
        "output = np.float32([[0,0], [w-1,0], [w-1,h-1], [0,h-1]])\n",
        "matrix = cv2.getPerspectiveTransform(input, output)\n",
        "\n",
        "tf_img = projective_transform(img, matrix)\n",
        "\n",
        "plt.imshow(tf_img)\n",
        "plt.axis('off')\n",
        "plt.show()"
      ],
      "metadata": {
        "colab": {
          "base_uri": "https://localhost:8080/",
          "height": 248
        },
        "id": "EW7v2FXxGpXH",
        "outputId": "71578e25-561b-453b-fa15-1db7a66fd21d"
      },
      "execution_count": 472,
      "outputs": [
        {
          "output_type": "display_data",
          "data": {
            "text/plain": [
              "<Figure size 432x288 with 1 Axes>"
            ],
            "image/png": "[encoded data removed]"
          },
          "metadata": {
            "needs_background": "light"
          }
        }
      ]
    },
    {
      "cell_type": "code",
      "source": [
        "imsave('4_9.png', tf_img)"
      ],
      "metadata": {
        "colab": {
          "base_uri": "https://localhost:8080/"
        },
        "id": "o8Tw1GJs1qm2",
        "outputId": "8b5ff112-d6a3-4eff-c758-935bdf78e11f"
      },
      "execution_count": 473,
      "outputs": [
        {
          "output_type": "stream",
          "name": "stderr",
          "text": [
            "WARNING:root:Lossy conversion from float64 to uint8. Range [0, 1]. Convert image to uint8 prior to saving to suppress this warning.\n"
          ]
        }
      ]
    },
    {
      "cell_type": "markdown",
      "source": [
        "## Distortion"
      ],
      "metadata": {
        "id": "fk-Dwn-LQz36"
      }
    },
    {
      "cell_type": "code",
      "source": [
        "def barrel(in_path, out_path):\n",
        "    with wand.image.Image(filename=in_path) as img:\n",
        "        img.background_color = wand.color.Color('black')\n",
        "        args = (\n",
        "            -0.2,  # A\n",
        "            0.2,   # B\n",
        "            0.4,  # C\n",
        "            0.9,  # D\n",
        "        )\n",
        "        img.distort('barrel', args)\n",
        "        img.save(filename=out_path)"
      ],
      "metadata": {
        "id": "EnFyO2K9SmLw"
      },
      "execution_count": 462,
      "outputs": []
    },
    {
      "cell_type": "code",
      "source": [
        "barrel('10_9.png', '10_9.png')"
      ],
      "metadata": {
        "id": "02q68TbkSmZI"
      },
      "execution_count": 463,
      "outputs": []
    },
    {
      "cell_type": "code",
      "source": [
        "def polinomial(in_path, out_path):\n",
        "    Point = namedtuple('Point', ['x', 'y', 'i', 'j'])\n",
        "\n",
        "    with wand.image.Image(filename=in_path) as img:\n",
        "        img.background_color = wand.color.Color('black')\n",
        "        img.virtual_pixel = 'background'\n",
        "        order = 1.5\n",
        "        alpha = Point(0, 0, 0, 0)\n",
        "        beta = Point(100, 200, 200, 100)\n",
        "        gamma = Point(400, 400, 400, 400)\n",
        "        delta = Point(0, 0, 0, 0)\n",
        "        args = (\n",
        "            order,\n",
        "            alpha.x, alpha.y, alpha.i, alpha.j,\n",
        "            beta.x, beta.y, beta.i, beta.j,\n",
        "            gamma.x, gamma.y, gamma.i, gamma.j,\n",
        "            delta.x, delta.y, delta.i, delta.j,\n",
        "        )\n",
        "        img.distort('polynomial', args)\n",
        "        img.save(filename=out_path)"
      ],
      "metadata": {
        "id": "oHPjik5ZyD76"
      },
      "execution_count": null,
      "outputs": []
    },
    {
      "cell_type": "code",
      "source": [
        "polinomial('1_9.png', '1_9.png')"
      ],
      "metadata": {
        "id": "pHSLYJbj6V5Q"
      },
      "execution_count": 457,
      "outputs": []
    },
    {
      "cell_type": "code",
      "source": [
        "def curve(in_path):\n",
        "    img = Image.open(in_path)\n",
        "    curve_img = Curve()(img, mag=3, prob=0.8)\n",
        "    return curve_img\n",
        "\n",
        "def distort(in_path):\n",
        "    img = Image.open(in_path)\n",
        "    distort_img = Distort()(img, mag=2, prob=0.6)\n",
        "    return distort_img"
      ],
      "metadata": {
        "id": "dJMDjpqYHhgq"
      },
      "execution_count": 350,
      "outputs": []
    },
    {
      "cell_type": "code",
      "source": [
        "img = curve('../10.png')\n",
        "img = ShotNoise()(img, mag=2, prob=0.6)\n",
        "save_image(np.array(img), '10_6.png')"
      ],
      "metadata": {
        "id": "BsqcPYjFHh9u"
      },
      "execution_count": 351,
      "outputs": []
    },
    {
      "cell_type": "markdown",
      "source": [
        "## Saltpepper Noise, Gaussian noise"
      ],
      "metadata": {
        "id": "cB5tX1xmAxLG"
      }
    },
    {
      "cell_type": "code",
      "source": [
        "def saltpepper_noise(image: np.array, proportion: float=0.2):\n",
        "    image_copy = image.copy()\n",
        "    h, w, c = image.shape\n",
        "    n_points = int(proportion * h * w)\n",
        "    \n",
        "    xs = np.random.randint(\n",
        "        low=0,\n",
        "        high=h,\n",
        "        size=(n_points, ),\n",
        "    )\n",
        "    \n",
        "    ys = np.random.randint(\n",
        "        low=0,\n",
        "        high=w,\n",
        "        size=(n_points, ),\n",
        "    )\n",
        "\n",
        "    image_copy[xs, ys, :] = np.random.choice(\n",
        "        a=[0, 255],\n",
        "        size=(n_points, c),\n",
        "        p=[0.5, 0.5],\n",
        "    )\n",
        "    \n",
        "    return image_copy\n",
        "\n",
        "def gaussian_noise(image: np.array, mean: float=0.2, sigma: float=0.4):\n",
        "    noise_image = image / 255. + np.random.normal(mean, sigma, image.shape)\n",
        "    noise_image = (np.clip(noise_image, 0, 1) * 255).astype(np.uint8)\n",
        "    \n",
        "    return noise_image"
      ],
      "metadata": {
        "id": "X039EwVGPcZj"
      },
      "execution_count": null,
      "outputs": []
    },
    {
      "cell_type": "code",
      "source": [
        "img = np.asarray(Image.open('10_9.png')).astype('uint8')\n",
        "gaussian_img = gaussian_noise(img, 0.4, 0.2)"
      ],
      "metadata": {
        "id": "4CbaP_2r9E3v"
      },
      "execution_count": 475,
      "outputs": []
    },
    {
      "cell_type": "code",
      "source": [
        "save_image(gaussian_img, '10_9.png')"
      ],
      "metadata": {
        "id": "piSh9M4Q9FAm"
      },
      "execution_count": 476,
      "outputs": []
    },
    {
      "cell_type": "markdown",
      "source": [
        "## ShotNoise, Impulse noise"
      ],
      "metadata": {
        "id": "Z-7wCHPkF9TJ"
      }
    },
    {
      "cell_type": "code",
      "source": [
        "def shot(in_path):\n",
        "    img = Image.open(in_path)\n",
        "    shot_img = ShotNoise()(img, mag=3, prob=0.8)\n",
        "    return shot_img\n",
        "\n",
        "def impulse(in_path):\n",
        "    img = Image.open(in_path)\n",
        "    impulse_img = ImpulseNoise()(img, mag=2, prob=0.9)\n",
        "    return impulse_img\n",
        "\n",
        "def speckle(in_path):\n",
        "    img = Image.open(in_path)\n",
        "    speckle_img = SpeckleNoise()(img, mag=3, prob=0.7)\n",
        "    return speckle_img"
      ],
      "metadata": {
        "id": "asd-OyT_F9dk"
      },
      "execution_count": 451,
      "outputs": []
    },
    {
      "cell_type": "code",
      "source": [
        "img = shot('../7.png')\n",
        "save_image(np.array(img), '7_9.png')"
      ],
      "metadata": {
        "id": "Nha-lNCKHIx0"
      },
      "execution_count": 452,
      "outputs": []
    },
    {
      "cell_type": "markdown",
      "source": [
        "## Blur"
      ],
      "metadata": {
        "id": "Le_qXUzfPcnx"
      }
    },
    {
      "cell_type": "code",
      "source": [
        "def rotational_blur(in_path, out_path):\n",
        "    with wand.image.Image(filename=in_path) as img:\n",
        "        img.rotational_blur(angle=2)\n",
        "        img.save(filename=out_path)\n",
        "\n",
        "def adaptive_blur(in_path, out_path):\n",
        "    with wand.image.Image(filename=in_path) as img:\n",
        "        img.adaptive_blur(radius=15, sigma=10)\n",
        "        img.save(filename=out_path)\n",
        "\n",
        "def motion_blur(in_path, out_path):\n",
        "    with wand.image.Image(filename=in_path) as img:\n",
        "        img.motion_blur(radius=15, sigma=8, angle=45)\n",
        "        img.save(filename=out_path)\n",
        "\n",
        "def gaussian_blur(in_path, out_path):\n",
        "    with wand.image.Image(filename=in_path) as img:\n",
        "        img.gaussian_blur(sigma=1.8)\n",
        "        img.save(filename=out_path)"
      ],
      "metadata": {
        "id": "eI85oTfCu1-U"
      },
      "execution_count": 445,
      "outputs": []
    },
    {
      "cell_type": "code",
      "source": [
        "motion_blur('6_9.png', '6_9.png')"
      ],
      "metadata": {
        "id": "iMf6Y7y9-h9o"
      },
      "execution_count": 477,
      "outputs": []
    },
    {
      "cell_type": "markdown",
      "source": [
        "## Special"
      ],
      "metadata": {
        "id": "0QunOw1-Evfy"
      }
    },
    {
      "cell_type": "code",
      "source": [
        "def wave(in_path, out_path):\n",
        "    with wand.image.Image(filename=in_path) as img:\n",
        "        img.wave(amplitude=img.height / 200, wave_length=img.width / 1.5)\n",
        "        img.save(filename=out_path)\n",
        "\n",
        "def swirl(in_path, out_path):\n",
        "    with wand.image.Image(filename=in_path) as img:\n",
        "        img.swirl(degree=5)\n",
        "        img.save(filename=out_path)\n",
        "\n",
        "def snow(in_path):\n",
        "    img = Image.open(in_path)\n",
        "    snow_img = Snow()(img, mag=3, prob=0.8)\n",
        "    return snow_img\n",
        "\n",
        "def frost(in_path):\n",
        "    img = Image.open(in_path)\n",
        "    frost_img = Frost()(img, mag=3, prob=0.7)\n",
        "    return frost_img"
      ],
      "metadata": {
        "id": "fTeEUqlCv61F"
      },
      "execution_count": 454,
      "outputs": []
    },
    {
      "cell_type": "code",
      "source": [
        "sn_img = frost('../10.png')\n",
        "save_image(np.array(sn_img), '10_9.png')"
      ],
      "metadata": {
        "id": "_RGPaPMYx0Qw"
      },
      "execution_count": 456,
      "outputs": []
    }
  ]
}